{
 "cells": [
  {
   "cell_type": "code",
   "execution_count": null,
   "metadata": {
    "colab": {
     "base_uri": "https://localhost:8080/",
     "height": 128
    },
    "id": "y4tqCet-2GAd",
    "outputId": "c23d7ab3-8f86-4092-f952-dc52150567f1"
   },
   "outputs": [],
   "source": [
    "import pandas as pd\n",
    "import numpy as np\n",
    "from sklearn.linear_model import LogisticRegression\n",
    "from sklearn.metrics import accuracy_score\n",
    "from sklearn.model_selection import train_test_split\n",
    "\n",
    "from sklearn.preprocessing import LabelEncoder\n"
   ]
  },
  {
   "cell_type": "code",
   "execution_count": null,
   "metadata": {
    "id": "Mk0ivPZ83Ix6"
   },
   "outputs": [],
   "source": [
    "#read csv files in pandas using python\n",
    "df=pd.read_csv(\"diabetes.csv\")"
   ]
  },
  {
   "cell_type": "code",
   "execution_count": null,
   "metadata": {
    "colab": {
     "base_uri": "https://localhost:8080/",
     "height": 206
    },
    "id": "ZIAJ4rDx4CuG",
    "outputId": "47ad719a-ef88-491b-fec1-23c5db0f8ab3"
   },
   "outputs": [],
   "source": [
    "#This function prints/returns the first number (n) of rows in the DataFrame\n",
    "df.head()"
   ]
  },
  {
   "cell_type": "code",
   "execution_count": null,
   "metadata": {
    "colab": {
     "base_uri": "https://localhost:8080/"
    },
    "id": "NT_UU2e74oMN",
    "outputId": "09e712cd-076e-49f4-99d8-9639af1e7afa"
   },
   "outputs": [],
   "source": [
    "#This function counts and returns/prints the number of unique values in a column of a DataFrame\n",
    "df[\"Outcome\"].value_counts()"
   ]
  },
  {
   "cell_type": "code",
   "execution_count": null,
   "metadata": {
    "colab": {
     "base_uri": "https://localhost:8080/"
    },
    "id": "jFUVk2sJ5fPh",
    "outputId": "8424a2a7-bd16-4362-ec06-9204f6329988"
   },
   "outputs": [],
   "source": [
    "#This prints out a tuple of arrays showing the number of rows and columns in  the DataFrame\n",
    "df.shape"
   ]
  },
  {
   "cell_type": "code",
   "execution_count": null,
   "metadata": {
    "colab": {
     "base_uri": "https://localhost:8080/",
     "height": 300
    },
    "id": "LFwcZChR7K3j",
    "outputId": "815a8ec6-0efa-401b-ce44-247bd602330e"
   },
   "outputs": [],
   "source": [
    "#This prints a summary  of  the DataFrame statistics\n",
    "df.describe()"
   ]
  },
  {
   "cell_type": "code",
   "execution_count": null,
   "metadata": {
    "colab": {
     "base_uri": "https://localhost:8080/"
    },
    "id": "v9vGnWGu7ONE",
    "outputId": "fa4870e8-0c3d-4cd2-c8d6-5d6fb66ba1d9"
   },
   "outputs": [],
   "source": [
    "#This prints information about the DataFrame like data types(dtypes), number of columns and memory usage\n",
    "df.info()"
   ]
  },
  {
   "cell_type": "code",
   "execution_count": null,
   "metadata": {
    "colab": {
     "base_uri": "https://localhost:8080/"
    },
    "id": "si6U450-7SnF",
    "outputId": "d5b96e5f-21ea-4d77-fa31-737f59ed23e0"
   },
   "outputs": [],
   "source": [
    "#This function detects missing values and  prints out the respective total in each dataframe\n",
    "df.isnull().sum()"
   ]
  },
  {
   "cell_type": "code",
   "execution_count": null,
   "metadata": {
    "id": "PeHKsA5-7etV"
   },
   "outputs": [],
   "source": [
    "#Transforms all non numerical values to integers\n",
    "le=LabelEncoder()\n",
    "df[\"Outcome\"]=le.fit_transform(df[\"Outcome\"])"
   ]
  },
  {
   "cell_type": "code",
   "execution_count": null,
   "metadata": {
    "colab": {
     "base_uri": "https://localhost:8080/"
    },
    "id": "prBIaPSO8OxF",
    "outputId": "350203a0-00bd-49f5-a65f-10045633d5bc"
   },
   "outputs": [],
   "source": [
    "#Returns a column containing unique values of the DataFrame\n",
    "df[\"Outcome\"].value_counts()"
   ]
  },
  {
   "cell_type": "code",
   "execution_count": null,
   "metadata": {
    "id": "fPHizu_ZoJu9"
   },
   "outputs": [],
   "source": [
    "x=df.drop(columns = \"Outcome\")\n",
    "y=df[\"Outcome\"]"
   ]
  },
  {
   "cell_type": "code",
   "execution_count": null,
   "metadata": {
    "id": "aV8atb6u9PIO"
   },
   "outputs": [],
   "source": [
    "#X_train and y_train are the test sets for setting and fitting the model\n",
    "X_train,X_valid, y_train,y_valid=train_test_split(x,y,test_size=0.2,random_state=42)"
   ]
  },
  {
   "cell_type": "code",
   "execution_count": null,
   "metadata": {
    "colab": {
     "base_uri": "https://localhost:8080/"
    },
    "id": "DaMe3kvq9lL9",
    "outputId": "6f172e93-495f-40af-d232-a7af8d78c6f7"
   },
   "outputs": [],
   "source": [
    "X_train.shape, X_valid.shape"
   ]
  },
  {
   "cell_type": "code",
   "execution_count": null,
   "metadata": {
    "colab": {
     "base_uri": "https://localhost:8080/"
    },
    "id": "vOLjIiDs9po0",
    "outputId": "054b77d5-f3c6-44ab-cc7e-e73e21c2e0c6"
   },
   "outputs": [],
   "source": [
    "model=LogisticRegression(random_state=42)\n",
    "model.fit(X_train,y_train)\n",
    "preds=model.predict(X_valid)\n",
    "print(\"accuracy_score\",accuracy_score(preds, y_valid))"
   ]
  },
  {
   "cell_type": "code",
   "execution_count": null,
   "metadata": {},
   "outputs": [],
   "source": []
  },
  {
   "cell_type": "code",
   "execution_count": null,
   "metadata": {},
   "outputs": [],
   "source": []
  }
 ],
 "metadata": {
  "colab": {
   "provenance": []
  },
  "kernelspec": {
   "display_name": "Python 3 (ipykernel)",
   "language": "python",
   "name": "python3"
  },
  "language_info": {
   "name": "python"
  }
 },
 "nbformat": 4,
 "nbformat_minor": 1
}
