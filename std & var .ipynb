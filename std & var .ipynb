{
 "cells": [
  {
   "cell_type": "code",
   "execution_count": 3,
   "id": "f6ddd0c2",
   "metadata": {},
   "outputs": [],
   "source": [
    "import numpy as np\n",
    "import statistics as st"
   ]
  },
  {
   "cell_type": "code",
   "execution_count": 12,
   "id": "09727c79",
   "metadata": {},
   "outputs": [
    {
     "name": "stdout",
     "output_type": "stream",
     "text": [
      "618.1543856064151\n"
     ]
    }
   ],
   "source": [
    "x=[10,15,28,111,7,1,2000,300,50,70]\n",
    "std=st.stdev(x)\n",
    "print(std)"
   ]
  },
  {
   "cell_type": "code",
   "execution_count": 13,
   "id": "9615040c",
   "metadata": {},
   "outputs": [
    {
     "name": "stdout",
     "output_type": "stream",
     "text": [
      "586.4327412414829\n"
     ]
    }
   ],
   "source": [
    "std_np=np.std(x)\n",
    "print(std_np)\n"
   ]
  },
  {
   "cell_type": "code",
   "execution_count": 10,
   "id": "b1256801",
   "metadata": {},
   "outputs": [
    {
     "name": "stdout",
     "output_type": "stream",
     "text": [
      "1\n"
     ]
    }
   ],
   "source": [
    "min_val=min([10,15,28,11,7,1,2000,300,50,70])\n",
    "print(min_val)"
   ]
  },
  {
   "cell_type": "code",
   "execution_count": 11,
   "id": "c2f05590",
   "metadata": {},
   "outputs": [
    {
     "name": "stdout",
     "output_type": "stream",
     "text": [
      "2000\n"
     ]
    }
   ],
   "source": [
    "max_val=max([10,15,28,11,7,1,2000,300,50,70])\n",
    "print(max_val)"
   ]
  },
  {
   "cell_type": "code",
   "execution_count": 14,
   "id": "9bbdf5b9",
   "metadata": {},
   "outputs": [
    {
     "name": "stdout",
     "output_type": "stream",
     "text": [
      "343903.36\n"
     ]
    }
   ],
   "source": [
    "variance=np.var(x)\n",
    "print (variance)"
   ]
  },
  {
   "cell_type": "code",
   "execution_count": 32,
   "id": "30791563",
   "metadata": {},
   "outputs": [
    {
     "name": "stdout",
     "output_type": "stream",
     "text": [
      "\n",
      "p100: 2000.0 \n",
      "p75: 100.75 \n",
      "p50: 39.0 \n",
      "p25: 11.25\n"
     ]
    }
   ],
   "source": [
    "# Calculating percentile\n",
    "p100,p75,p50,p25 = np.percentile(x, [100,75,50,25])\n",
    "print(\"\\np100:\",p100,\"\\np75:\",p75,\"\\np50:\",p50,\"\\np25:\", p25)"
   ]
  },
  {
   "cell_type": "code",
   "execution_count": 28,
   "id": "e0450a70",
   "metadata": {},
   "outputs": [
    {
     "name": "stdout",
     "output_type": "stream",
     "text": [
      "89.5\n"
     ]
    }
   ],
   "source": [
    "# Finding iqr\n",
    "range = p75 - p25\n",
    "print(range)"
   ]
  },
  {
   "cell_type": "code",
   "execution_count": null,
   "id": "0bb77b76",
   "metadata": {},
   "outputs": [],
   "source": []
  }
 ],
 "metadata": {
  "kernelspec": {
   "display_name": "Python 3 (ipykernel)",
   "language": "python",
   "name": "python3"
  },
  "language_info": {
   "codemirror_mode": {
    "name": "ipython",
    "version": 3
   },
   "file_extension": ".py",
   "mimetype": "text/x-python",
   "name": "python",
   "nbconvert_exporter": "python",
   "pygments_lexer": "ipython3",
   "version": "3.11.5"
  }
 },
 "nbformat": 4,
 "nbformat_minor": 5
}
