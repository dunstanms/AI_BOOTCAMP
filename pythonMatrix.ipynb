{
 "cells": [
  {
   "cell_type": "code",
   "execution_count": 2,
   "id": "1145c22f",
   "metadata": {},
   "outputs": [],
   "source": [
    "import numpy as np"
   ]
  },
  {
   "cell_type": "code",
   "execution_count": 5,
   "id": "ed37df67",
   "metadata": {},
   "outputs": [
    {
     "name": "stdout",
     "output_type": "stream",
     "text": [
      "matrix1 = [[1, 2, 3, 6, 9, 7], [5, 6, 7, 8, 5, 7], [0, 9, 7, 4, 1, 3]]\n"
     ]
    }
   ],
   "source": [
    "matrix1=[[1,2,3,6,9,7],\n",
    "        [5,6,7,8,5,7],\n",
    "         [0,9,7,4,1,3]]\n",
    "print(\"matrix1 =\", matrix1)"
   ]
  },
  {
   "cell_type": "code",
   "execution_count": 7,
   "id": "8b3177ce",
   "metadata": {},
   "outputs": [
    {
     "name": "stdout",
     "output_type": "stream",
     "text": [
      "7\n"
     ]
    }
   ],
   "source": [
    "print( matrix1[2][2])"
   ]
  },
  {
   "cell_type": "code",
   "execution_count": 8,
   "id": "573421de",
   "metadata": {},
   "outputs": [
    {
     "name": "stdout",
     "output_type": "stream",
     "text": [
      "2\n"
     ]
    }
   ],
   "source": [
    "print (matrix1[0][1])"
   ]
  },
  {
   "cell_type": "code",
   "execution_count": 9,
   "id": "9160fb58",
   "metadata": {},
   "outputs": [
    {
     "name": "stdout",
     "output_type": "stream",
     "text": [
      "8\n"
     ]
    }
   ],
   "source": [
    "print (matrix1[1][3])"
   ]
  },
  {
   "cell_type": "code",
   "execution_count": 10,
   "id": "2aa4d229",
   "metadata": {},
   "outputs": [
    {
     "name": "stdout",
     "output_type": "stream",
     "text": [
      "[array([ 1,  2,  3, 22])]\n"
     ]
    }
   ],
   "source": [
    "import numpy as np\n",
    "matrix2= np.array([0,1,2,3,22,4,5])\n",
    "print([matrix2[1:5]])"
   ]
  },
  {
   "cell_type": "code",
   "execution_count": 11,
   "id": "2b5cd3b3",
   "metadata": {},
   "outputs": [
    {
     "name": "stdout",
     "output_type": "stream",
     "text": [
      "[[ 1  2  6  7]\n",
      " [ 3  7  9  6]\n",
      " [ 1 22  3  7]]\n"
     ]
    }
   ],
   "source": [
    "matrix3=np.array([[1,2,6,7],\n",
    "                [3,7,9,6],\n",
    "                [1,22,3,7]])\n",
    "print (matrix3)"
   ]
  },
  {
   "cell_type": "code",
   "execution_count": 15,
   "id": "a1ade23b",
   "metadata": {},
   "outputs": [
    {
     "name": "stdout",
     "output_type": "stream",
     "text": [
      "7\n"
     ]
    }
   ],
   "source": [
    "print (matrix3 [1][1])"
   ]
  },
  {
   "cell_type": "markdown",
   "id": "f0e3588a",
   "metadata": {},
   "source": [
    "Matrix addition\n"
   ]
  },
  {
   "cell_type": "code",
   "execution_count": 6,
   "id": "425cfbb8",
   "metadata": {},
   "outputs": [
    {
     "name": "stdout",
     "output_type": "stream",
     "text": [
      "[[ 6  4  7]\n",
      " [ 5  7  9]\n",
      " [ 9 11  8]]\n"
     ]
    }
   ],
   "source": [
    "add1=np.array([[2,3,4],[3,5,7],[9,6,5]])\n",
    "add2=np.array([[4,1,3],[2,2,2],[0,5,3]])\n",
    "total=np.add(add1,add2)\n",
    "print(total)"
   ]
  },
  {
   "cell_type": "markdown",
   "id": "47da5176",
   "metadata": {},
   "source": [
    "Matrix subtraction\n"
   ]
  },
  {
   "cell_type": "code",
   "execution_count": 7,
   "id": "179be68d",
   "metadata": {},
   "outputs": [
    {
     "name": "stdout",
     "output_type": "stream",
     "text": [
      "[[-2  2  1]\n",
      " [ 1  3  5]\n",
      " [ 9  1  2]]\n"
     ]
    }
   ],
   "source": [
    "sub1=np.array([[2,3,4],[3,5,7],[9,6,5]])\n",
    "sub2=np.array([[4,1,3],[2,2,2],[0,5,3]])\n",
    "dif=np.subtract(sub1,sub2)\n",
    "print(dif)"
   ]
  },
  {
   "cell_type": "markdown",
   "id": "988a6b1d",
   "metadata": {},
   "source": [
    "Matrix multiplication\n"
   ]
  },
  {
   "cell_type": "code",
   "execution_count": 8,
   "id": "48f88251",
   "metadata": {},
   "outputs": [
    {
     "name": "stdout",
     "output_type": "stream",
     "text": [
      "[[14 28 24]\n",
      " [32 52 48]\n",
      " [48 46 54]]\n"
     ]
    }
   ],
   "source": [
    "mat1=np.array([[2,3,4],[5,6,7],[9,6,5]])\n",
    "mat2=np.array([[4,1,3],[2,2,2],[0,5,3]])\n",
    "mat=np.matmul(mat1,mat2)\n",
    "print(mat)"
   ]
  },
  {
   "cell_type": "code",
   "execution_count": 9,
   "id": "874db09b",
   "metadata": {},
   "outputs": [
    {
     "name": "stdout",
     "output_type": "stream",
     "text": [
      "[[14 28 24]\n",
      " [32 52 48]\n",
      " [48 46 54]]\n"
     ]
    }
   ],
   "source": [
    "mat1=np.array([[2,3,4],[5,6,7],[9,6,5]])\n",
    "mat2=np.array([[4,1,3],[2,2,2],[0,5,3]])\n",
    "mat=np.dot(mat1,mat2)\n",
    "print(mat)"
   ]
  },
  {
   "cell_type": "markdown",
   "id": "9712c6a9",
   "metadata": {},
   "source": [
    "Matrix transpose\n"
   ]
  },
  {
   "cell_type": "code",
   "execution_count": 12,
   "id": "373d9a4c",
   "metadata": {},
   "outputs": [
    {
     "name": "stdout",
     "output_type": "stream",
     "text": [
      "[[2 5 9]\n",
      " [3 6 6]\n",
      " [4 7 5]]\n"
     ]
    }
   ],
   "source": [
    "tr=np.array([[2,3,4],\n",
    "             [5,6,7],\n",
    "             [9,6,5]])\n",
    "transpose=np.transpose(tr)\n",
    "print(transpose)"
   ]
  },
  {
   "cell_type": "code",
   "execution_count": null,
   "id": "4c37cd67",
   "metadata": {},
   "outputs": [],
   "source": []
  }
 ],
 "metadata": {
  "kernelspec": {
   "display_name": "Python 3 (ipykernel)",
   "language": "python",
   "name": "python3"
  },
  "language_info": {
   "codemirror_mode": {
    "name": "ipython",
    "version": 3
   },
   "file_extension": ".py",
   "mimetype": "text/x-python",
   "name": "python",
   "nbconvert_exporter": "python",
   "pygments_lexer": "ipython3",
   "version": "3.11.5"
  }
 },
 "nbformat": 4,
 "nbformat_minor": 5
}
